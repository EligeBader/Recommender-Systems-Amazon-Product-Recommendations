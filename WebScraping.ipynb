{
 "cells": [
  {
   "cell_type": "markdown",
   "metadata": {},
   "source": [
    "In this notebook, I have implemented a web scraping tool to extract product information from Amazon using the `requests` library and `BeautifulSoup` for parsing HTML content. I defined a function `scrape_amazon_product` that retrieves the product title, image URL, and price based on a given product ID."
   ]
  },
  {
   "cell_type": "code",
   "execution_count": 1,
   "metadata": {},
   "outputs": [],
   "source": [
    "import requests\n",
    "from bs4 import BeautifulSoup"
   ]
  },
  {
   "cell_type": "code",
   "execution_count": null,
   "metadata": {},
   "outputs": [],
   "source": [
    "# Function to scrape the product information\n",
    "def scrape_amazon_product(product_id):\n",
    "    \n",
    "    '''\n",
    "    This function scrapes product information from Amazon based on the given product ID.\n",
    "    It retrieves the product title, image URL, and price.\n",
    "    The function sends a GET request to the Amazon product page, parses the HTML content using BeautifulSoup,\n",
    "    and extracts the required information.\n",
    "    If the request is successful and the elements are found, it prints the product details.\n",
    "    Otherwise, it prints an error message.\n",
    "    '''\n",
    "    \n",
    "    url = f\"https://amazon-asin.com/\"\n",
    "    headers = {\n",
    "        \"User-Agent\": \"Mozilla/5.0 (Windows NT 10.0; Win64; x64) AppleWebKit/537.36 (KHTML, like Gecko) Chrome/58.0.3029.110 Safari/537.3\"\n",
    "    }\n",
    "    response = requests.get(url, headers=headers)\n",
    "\n",
    "\n",
    "    # Check if the request was successful\n",
    "    if response.status_code == 200:\n",
    "        soup = BeautifulSoup(response.content, 'html.parser')\n",
    "\n",
    "        # Extract product title\n",
    "        title_tag = soup.find('span', {'class': 'a-size-medium a-spacing-none a-color-base a-text-normal'})\n",
    "        if title_tag:\n",
    "            title = title_tag.get_text(strip=True)\n",
    "        else:\n",
    "            title = \"Title not found\"\n",
    "\n",
    "        # Extract product image URL\n",
    "        image = soup.find('img', {'id': 'imgBlkFront'})\n",
    "        if image:\n",
    "            image_url = image['src']\n",
    "        else:\n",
    "            image_url = \"Image URL not found\"\n",
    "        \n",
    "        # Extract product price\n",
    "        price = soup.find('span', {'id': 'priceblock_ourprice'})\n",
    "        if price:\n",
    "            price = price.get_text(strip=True)\n",
    "        else:\n",
    "            price = \"Price not found\"\n",
    "        \n",
    "\n",
    "\n",
    "        # Print product details\n",
    "        print(f\"Title: {title}\")\n",
    "        print(f\"Image URL: {image_url}\")\n",
    "        print(f\"Price: {price}\")\n",
    "\n",
    "    else:\n",
    "        print(f\"Failed to retrieve the webpage. Status code: {response.status_code}\")"
   ]
  },
  {
   "cell_type": "code",
   "execution_count": 3,
   "metadata": {},
   "outputs": [
    {
     "name": "stdout",
     "output_type": "stream",
     "text": [
      "Title: Title not found\n",
      "Image URL: Image URL not found\n",
      "Price: Price not found\n"
     ]
    }
   ],
   "source": [
    "product_id = \"1578052009\"\n",
    "scrape_amazon_product(product_id)"
   ]
  }
 ],
 "metadata": {
  "kernelspec": {
   "display_name": "Python 3",
   "language": "python",
   "name": "python3"
  },
  "language_info": {
   "codemirror_mode": {
    "name": "ipython",
    "version": 3
   },
   "file_extension": ".py",
   "mimetype": "text/x-python",
   "name": "python",
   "nbconvert_exporter": "python",
   "pygments_lexer": "ipython3",
   "version": "3.11.0"
  }
 },
 "nbformat": 4,
 "nbformat_minor": 2
}
